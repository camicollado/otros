{
  "nbformat": 4,
  "nbformat_minor": 0,
  "metadata": {
    "colab": {
      "name": "Competencia Kaggle.ipynb",
      "provenance": []
    },
    "kernelspec": {
      "name": "python3",
      "display_name": "Python 3"
    },
    "language_info": {
      "name": "python"
    }
  },
  "cells": [
    {
      "cell_type": "markdown",
      "source": [
        "##Competencia Kaggle\n",
        "R cuadrado mayor a 0,8\n",
        "\n",
        "+ [Dataset sobre autos](https://www.kaggle.com/c/ap-2022q1) \n",
        "+ Tipos de predicción: **regresión**\n",
        "+ Variable target: **price**\n",
        "\n"
      ],
      "metadata": {
        "id": "GdA-b2JvBAy_"
      }
    },
    {
      "cell_type": "markdown",
      "source": [
        "## Librerias"
      ],
      "metadata": {
        "id": "CuLGXmtdCQzV"
      }
    },
    {
      "cell_type": "code",
      "source": [
        "import pandas as pd\n",
        "import numpy as np\n",
        "import matplotlib.pyplot as plt "
      ],
      "metadata": {
        "id": "QAHYEmsLBkUf"
      },
      "execution_count": null,
      "outputs": []
    },
    {
      "cell_type": "markdown",
      "source": [
        "## Importar datos"
      ],
      "metadata": {
        "id": "lZMxBvV3CXqq"
      }
    },
    {
      "cell_type": "code",
      "source": [
        "df = pd.read_csv(\"base_train.csv\")"
      ],
      "metadata": {
        "id": "mNy0nWdZCPyg"
      },
      "execution_count": null,
      "outputs": []
    },
    {
      "cell_type": "code",
      "source": [
        "print(df)"
      ],
      "metadata": {
        "id": "NRijPykpBtaA"
      },
      "execution_count": null,
      "outputs": []
    },
    {
      "cell_type": "code",
      "source": [
        "df.shape"
      ],
      "metadata": {
        "id": "o6cq1oR3rdZ2"
      },
      "execution_count": null,
      "outputs": []
    },
    {
      "cell_type": "markdown",
      "source": [
        " ### Separación *train* y *test*"
      ],
      "metadata": {
        "id": "jj3TdM07cDyb"
      }
    },
    {
      "cell_type": "code",
      "source": [
        "from sklearn.model_selection import train_test_split"
      ],
      "metadata": {
        "id": "NI7z_ZjUcMwY"
      },
      "execution_count": null,
      "outputs": []
    },
    {
      "cell_type": "code",
      "source": [
        "X= df[['symboling', 'normalized-losses', 'wheel-base', 'length', 'width','height','curb-weight', 'engine-size', 'bore', 'stroke', 'compression-ratio', 'horsepower', 'peak-rpm', 'city-mpg', 'highway-mpg']]\n",
        "y= df[['price']]\n",
        "X_train, X_test, y_train, y_test = train_test_split(X, y, test_size=0.8)"
      ],
      "metadata": {
        "id": "7OpMrESxeUO3"
      },
      "execution_count": null,
      "outputs": []
    },
    {
      "cell_type": "markdown",
      "source": [
        "80% train, 20% split\n",
        "\n",
        "*random_state=0* es lo mismo que *set.seed()* en R\n",
        "\n",
        "\n"
      ],
      "metadata": {
        "id": "_npAGlGlfKjj"
      }
    },
    {
      "cell_type": "code",
      "source": [
        "print(X_train.shape)\n",
        "print(y_train.shape)\n",
        "print(X_test.shape)\n",
        "print(y_test.shape)"
      ],
      "metadata": {
        "id": "xQ4YA1K0f5Jz"
      },
      "execution_count": null,
      "outputs": []
    },
    {
      "cell_type": "markdown",
      "source": [
        "Distribución de test y train (se busca que sean similares)"
      ],
      "metadata": {
        "id": "UASkAkUJhDW4"
      }
    },
    {
      "cell_type": "markdown",
      "source": [
        "**Bucar alguna libreria o función para comparar los valores estadísticos de cada columna entre test y train**"
      ],
      "metadata": {
        "id": "JuLQgzG9lC8T"
      }
    },
    {
      "cell_type": "code",
      "source": [
        "print(X_train.describe(include='all'))"
      ],
      "metadata": {
        "id": "EKHA19ZJiZI9"
      },
      "execution_count": null,
      "outputs": []
    },
    {
      "cell_type": "code",
      "source": [
        "print(y_train.describe(include='all'))"
      ],
      "metadata": {
        "id": "4MW7W5j8hL8p"
      },
      "execution_count": null,
      "outputs": []
    },
    {
      "cell_type": "code",
      "source": [
        "print(X_test.describe(include='all'))"
      ],
      "metadata": {
        "id": "8C29bKJrxRGN"
      },
      "execution_count": null,
      "outputs": []
    },
    {
      "cell_type": "code",
      "source": [
        "print(y_test.describe(include='all'))"
      ],
      "metadata": {
        "id": "xFfPhkmZxRM-"
      },
      "execution_count": null,
      "outputs": []
    },
    {
      "cell_type": "markdown",
      "source": [
        "## Árbol simple"
      ],
      "metadata": {
        "id": "r9HmDrVqDT0X"
      }
    },
    {
      "cell_type": "code",
      "source": [
        "# import the regressor \n",
        "from sklearn.tree import DecisionTreeRegressor  \n",
        "  \n",
        "# create a regressor object \n",
        "# fit the regressor with X and Y data \n",
        "\n",
        "regressor = DecisionTreeRegressor(random_state=0, max_depth=10).fit(X_train,y_train)"
      ],
      "metadata": {
        "id": "WqABb-z6DXUl"
      },
      "execution_count": null,
      "outputs": []
    },
    {
      "cell_type": "code",
      "source": [
        "regressor.get_n_leaves()"
      ],
      "metadata": {
        "id": "bISyPf4lqIxB"
      },
      "execution_count": null,
      "outputs": []
    },
    {
      "cell_type": "code",
      "source": [
        "from sklearn import tree"
      ],
      "metadata": {
        "id": "LOsyzEuOx7Im"
      },
      "execution_count": null,
      "outputs": []
    },
    {
      "cell_type": "markdown",
      "source": [
        "**Leer acá** [predecir y calcular R cuadrado](https://scikit-learn.org/stable/modules/generated/sklearn.tree.DecisionTreeRegressor.html#sklearn.tree.DecisionTreeRegressor.score)"
      ],
      "metadata": {
        "id": "SzUM6jZ0sVpF"
      }
    },
    {
      "cell_type": "code",
      "source": [
        "A=regressor.predict(X_test)"
      ],
      "metadata": {
        "id": "z1zXgNcq1Cwe"
      },
      "execution_count": null,
      "outputs": []
    },
    {
      "cell_type": "code",
      "source": [
        "print(A)"
      ],
      "metadata": {
        "id": "pOaFEUKV4qL5"
      },
      "execution_count": null,
      "outputs": []
    },
    {
      "cell_type": "code",
      "source": [
        "regressor.score(X_test,y_test)"
      ],
      "metadata": {
        "id": "Mk1RiTrU3kQi"
      },
      "execution_count": null,
      "outputs": []
    },
    {
      "cell_type": "markdown",
      "source": [
        "**R^2 = 56%** (bajo)"
      ],
      "metadata": {
        "id": "KoYGyThJ1J3F"
      }
    },
    {
      "cell_type": "markdown",
      "source": [
        "**Importar base validación**"
      ],
      "metadata": {
        "id": "rUV6qYkjDpeR"
      }
    },
    {
      "cell_type": "code",
      "source": [
        "val = pd.read_csv(\"base_val.csv\")"
      ],
      "metadata": {
        "id": "AE0PepLwDfnC"
      },
      "execution_count": null,
      "outputs": []
    },
    {
      "cell_type": "markdown",
      "source": [
        "Predicción de precios con base val"
      ],
      "metadata": {
        "id": "qie8ECLUDiNL"
      }
    },
    {
      "cell_type": "code",
      "source": [
        "sf=regressor.predict(val)"
      ],
      "metadata": {
        "id": "e06y3pZ9DW_g"
      },
      "execution_count": null,
      "outputs": []
    },
    {
      "cell_type": "markdown",
      "source": [
        "Solution file"
      ],
      "metadata": {
        "id": "4qr2sj4zDgb6"
      }
    },
    {
      "cell_type": "code",
      "source": [
        ""
      ],
      "metadata": {
        "id": "fei-hANMFhIG"
      },
      "execution_count": null,
      "outputs": []
    },
    {
      "cell_type": "markdown",
      "source": [
        "## SVM"
      ],
      "metadata": {
        "id": "lJapVqIl1hh8"
      }
    },
    {
      "cell_type": "markdown",
      "source": [
        "#### Librerias"
      ],
      "metadata": {
        "id": "PB_sU07q8ss_"
      }
    },
    {
      "cell_type": "code",
      "source": [
        "#import numpy as np\n",
        "#from sklearn.svm import SVR\n",
        "#from sklearn.metrics import mean_squared_error\n",
        "#import matplotlib.pyplot as plt"
      ],
      "metadata": {
        "id": "1EIMVrr31t3R"
      },
      "execution_count": null,
      "outputs": []
    },
    {
      "cell_type": "markdown",
      "source": [
        "Seed"
      ],
      "metadata": {
        "id": "aaYOGBzn8wqn"
      }
    },
    {
      "cell_type": "code",
      "source": [
        "#np.random.seed(12)"
      ],
      "metadata": {
        "id": "0EmCq9KN8G84"
      },
      "execution_count": null,
      "outputs": []
    },
    {
      "cell_type": "markdown",
      "source": [
        "**SVR**"
      ],
      "metadata": {
        "id": "vEOLpPut9GlN"
      }
    }
  ]
}